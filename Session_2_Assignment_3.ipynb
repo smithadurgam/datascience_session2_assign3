{
 "cells": [
  {
   "cell_type": "code",
   "execution_count": 15,
   "metadata": {},
   "outputs": [
    {
     "name": "stdout",
     "output_type": "stream",
     "text": [
      "Input String is : Acadgild\n",
      "Reverse of the string is : dligdacA"
     ]
    }
   ],
   "source": [
    "# Session 2 - Assignment 3\n",
    "# Write a Python program to reverse a word after accepting the input from the user.\n",
    "# Sample Output:\n",
    "# Input word: AcadGild\n",
    "# Output: dilGdacA\n",
    "\n",
    "#str = input(\"Enter a string : \")\n",
    "str = \"Acadgild\"\n",
    "print(\"Input String is :\", str)\n",
    "l = len(str)\n",
    "\n",
    "i = l-1\n",
    "print(\"Reverse of the string is : \", end = \"\")\n",
    "while i>= 0:\n",
    "    print(str[i], end = \"\")\n",
    "    i = i - 1\n",
    "    "
   ]
  },
  {
   "cell_type": "code",
   "execution_count": null,
   "metadata": {},
   "outputs": [],
   "source": []
  }
 ],
 "metadata": {
  "kernelspec": {
   "display_name": "Python 3",
   "language": "python",
   "name": "python3"
  },
  "language_info": {
   "codemirror_mode": {
    "name": "ipython",
    "version": 3
   },
   "file_extension": ".py",
   "mimetype": "text/x-python",
   "name": "python",
   "nbconvert_exporter": "python",
   "pygments_lexer": "ipython3",
   "version": "3.6.4"
  }
 },
 "nbformat": 4,
 "nbformat_minor": 2
}
